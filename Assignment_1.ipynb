{
 "cells": [
  {
   "cell_type": "markdown",
   "metadata": {},
   "source": [
    "Q1. In the below elements which of them are values or an expression? eg:- values can be integer or string and expressions will be mathematical operators.\n",
    "*\n",
    "'hello'\n",
    "-87.8\n",
    "-\n",
    "/\n",
    "+\n",
    "6"
   ]
  },
  {
   "cell_type": "code",
   "execution_count": null,
   "metadata": {},
   "outputs": [],
   "source": [
    "Ans_1:-\n",
    "   * (Astertisk is a  mathematical operator so it is an expression )\n",
    "'hello' (it is a string therefore it is value )\n",
    "-87.8 (it is a float so it is value)\n",
    "- (this is minus sign therefore it is expression)\n",
    "/(forward slash is a mathematical operator so it is an expression )\n",
    "+(plus sign so it is an expression)\n",
    "6(it is an integer so it is value)"
   ]
  },
  {
   "cell_type": "markdown",
   "metadata": {},
   "source": [
    "Q_2. What is the difference between string and variable?"
   ]
  },
  {
   "cell_type": "code",
   "execution_count": null,
   "metadata": {},
   "outputs": [],
   "source": [
    "Ans_2:-\n",
    "     Anything written inside a ' ' (pair of single quotes) and  \" \"(pair of double quotes) is known as string.\n",
    "     Eg. \"ATeeb\"\n",
    "     variable is a name given to the memory location where the actual data is stored\n",
    "     Eg. \n",
    "     s=5\n",
    "     in the above example ateeb is a string and s is a variable."
   ]
  },
  {
   "cell_type": "markdown",
   "metadata": {},
   "source": [
    "Q-3:-Describe three different data types"
   ]
  },
  {
   "cell_type": "code",
   "execution_count": null,
   "metadata": {},
   "outputs": [],
   "source": [
    "\n",
    "Ans-3:-\n",
    "      Data-Type:-\n",
    "             Data type tells about the type of data used in the program.\n",
    "       three data types are descibed below.\n",
    "       (1):- integer:-\n",
    "                 it containts positive or negative whole numbers(without fraction or decimal)\n",
    "                 the value is reresented by int class\n",
    "                 there is no limit how long an integer value can be\n",
    "         Example:-\n",
    "                      S=2043\n",
    "       (2):-complex numbers:-\n",
    "                       Complex numbers is represented by complex class\n",
    "                       It is specified as (real part) + (imaginary part)\n",
    "                       imaginary part is desribed with (j)\n",
    "                       b=2+4j\n",
    "       (3):-String:-\n",
    "                 String is a sequence of unicode code character.\n",
    "                 any thing written inside a pair of single quotes('') or pair of double quotes(\"\") is known as string.\n",
    "                 We can also create multi line string it is denoted by (\"\"\" or ''')\n",
    "                 "
   ]
  },
  {
   "cell_type": "markdown",
   "metadata": {},
   "source": [
    "Q-4. What is an expression made up of? What do all expressions do ?"
   ]
  },
  {
   "cell_type": "markdown",
   "metadata": {},
   "source": [
    "Ans-4\n",
    "Expression:-\n",
    "    An Expression is a combination of mathematical operators and values.\n",
    "    all expression evaluate to a single value."
   ]
  },
  {
   "cell_type": "markdown",
   "metadata": {},
   "source": [
    "Q-5. This assignment statements, like spam = 10. What is the difference between an expression and a statement?"
   ]
  },
  {
   "cell_type": "code",
   "execution_count": null,
   "metadata": {},
   "outputs": [],
   "source": [
    "Ans-5:-\n",
    "   Expession:-\n",
    "        An expression is a combination of mathematical operators and values which evaluate to a single value.\n",
    "   Statement:-\n",
    "        statement can not be evaluate to a single value."
   ]
  },
  {
   "cell_type": "markdown",
   "metadata": {},
   "source": [
    "Q-6. After running the following code, what does the variable bacon contain?\n",
    "bacon = 22\n",
    "bacon + 1"
   ]
  },
  {
   "cell_type": "code",
   "execution_count": null,
   "metadata": {},
   "outputs": [],
   "source": [
    "Ans-6:-According to question \n",
    "     bacon =22 then \n",
    "     bacon+1\n",
    "     bacon+1 is not able to reassign the value to bacon variable hence bacon conatin 22\n",
    "        (the correct assignment statement is bacon= bacon + 1)"
   ]
  },
  {
   "cell_type": "markdown",
   "metadata": {},
   "source": [
    "Q-7:-\n",
    "  What should the values of the following two terms be?\n",
    "'spam' + 'spamspam'\n",
    "'spam' * 3"
   ]
  },
  {
   "cell_type": "code",
   "execution_count": 4,
   "metadata": {},
   "outputs": [
    {
     "data": {
      "text/plain": [
       "'spamspamspam'"
      ]
     },
     "execution_count": 4,
     "metadata": {},
     "output_type": "execute_result"
    }
   ],
   "source": [
    "#Ans-6:-\n",
    "'spam'+'spamspam'\n",
    "'spam'*3\n",
    "#both statemeent evalueation is same \"spamspamspam\""
   ]
  },
  {
   "cell_type": "markdown",
   "metadata": {},
   "source": [
    "Q-8:-\n",
    "   Why is eggs a valid variable name while 100 is invalid?"
   ]
  },
  {
   "cell_type": "code",
   "execution_count": null,
   "metadata": {},
   "outputs": [],
   "source": [
    " eggs is a valid variable name but 100 is not because 100 is not ful- fill the variable naming convention.\n",
    " First character should be alphabet or underscore (_).\n",
    " here the given variable name start with digit for this reason 100 is not valid variable."
   ]
  },
  {
   "cell_type": "markdown",
   "metadata": {},
   "source": [
    "Q-9. What three functions can be used to get the integer, floating-point number, or string version of a value?"
   ]
  },
  {
   "cell_type": "code",
   "execution_count": null,
   "metadata": {},
   "outputs": [],
   "source": [
    "int() functon is used to get the integer\n",
    "float() functon is used to get the floating-point number and\n",
    "str()functon is used to get the string"
   ]
  },
  {
   "cell_type": "markdown",
   "metadata": {},
   "source": [
    "Q-10. Why does this expression cause an error? How can you fix it?\n",
    "'I have eaten ' + 99 + ' burritos.'\t"
   ]
  },
  {
   "cell_type": "markdown",
   "metadata": {},
   "source": [
    "given statement is :-\n",
    "        'I have eaten' + 99 + 'burritos'\n",
    "   here we try to concatnet one string to another string but 99 is an integer value.\n",
    "   string concatenation is done with only string by using + operator."
   ]
  },
  {
   "cell_type": "code",
   "execution_count": 6,
   "metadata": {},
   "outputs": [],
   "source": [
    "#how we can fix it\n",
    "'I have eaten ' + '99' + ' burritos.'"
   ]
  }
 ],
 "metadata": {
  "kernelspec": {
   "display_name": "Python 3",
   "language": "python",
   "name": "python3"
  },
  "language_info": {
   "codemirror_mode": {
    "name": "ipython",
    "version": 3
   },
   "file_extension": ".py",
   "mimetype": "text/x-python",
   "name": "python",
   "nbconvert_exporter": "python",
   "pygments_lexer": "ipython3",
   "version": "3.8.5"
  }
 },
 "nbformat": 4,
 "nbformat_minor": 4
}
